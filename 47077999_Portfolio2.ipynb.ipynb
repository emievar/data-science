{
 "cells": [
  {
   "cell_type": "markdown",
   "id": "Z88FfJc9lA_T",
   "metadata": {
    "id": "Z88FfJc9lA_T"
   },
   "source": [
    "## Analysis of an E-commerce Dataset Part 2"
   ]
  },
  {
   "cell_type": "markdown",
   "id": "hoq0NwA9lA_V",
   "metadata": {
    "id": "hoq0NwA9lA_V"
   },
   "source": [
    "The goal of the second analysis task is to train linear regression models to predict users' ratings towards items. This involves a standard Data Science workflow: exploring data, building models, making predictions, and evaluating results. In this task, we will explore the impacts of feature selections and different sizes of training/testing data on the model performance. We will use another cleaned combined e-commerce sub-dataset that **is different from** the one in “Analysis of an E-commerce Dataset” task 1."
   ]
  },
  {
   "cell_type": "markdown",
   "id": "f9fd3NU_lA_W",
   "metadata": {
    "id": "f9fd3NU_lA_W"
   },
   "source": [
    "### Import Cleaned E-commerce Dataset\n",
    "The csv file named 'cleaned_ecommerce_dataset.csv' is provided. You may need to use the Pandas method, i.e., `read_csv`, for reading it. After that, please print out its total length."
   ]
  },
  {
   "cell_type": "code",
   "execution_count": 27,
   "id": "PJrb2gtAlA_W",
   "metadata": {
    "id": "PJrb2gtAlA_W"
   },
   "outputs": [],
   "source": [
    "#libraries\n",
    "import pandas as pd\n",
    "from sklearn.preprocessing import OrdinalEncoder\n",
    "from sklearn.model_selection import train_test_split\n",
    "from sklearn.linear_model import LinearRegression\n",
    "from sklearn.metrics import mean_squared_error\n",
    "import numpy as np\n",
    "import matplotlib.pyplot as plt"
   ]
  },
  {
   "cell_type": "code",
   "execution_count": 15,
   "id": "64eea619-4342-489e-a3cb-4b7615e38109",
   "metadata": {},
   "outputs": [],
   "source": [
    "#load dataset\n",
    "ds = \"files/cleaned_ecommerce_dataset.csv\"\n",
    "df = pd.read_csv(ds)"
   ]
  },
  {
   "cell_type": "code",
   "execution_count": 16,
   "id": "66cc25fa-d421-4bac-8096-58c153042be7",
   "metadata": {},
   "outputs": [
    {
     "name": "stdout",
     "output_type": "stream",
     "text": [
      "2685\n"
     ]
    }
   ],
   "source": [
    "#Print length of dataframe\n",
    "print(len(df))"
   ]
  },
  {
   "cell_type": "markdown",
   "id": "aqbuU6rglA_X",
   "metadata": {
    "id": "aqbuU6rglA_X"
   },
   "source": [
    "### Explore the Dataset\n",
    "\n",
    "* Use the methods, i.e., `head()` and `info()`, to have a rough picture about the data, e.g., how many columns, and the data types of each column.\n",
    "* As our goal is to predict ratings given other columns, please get the correlations between helpfulness/gender/category/review and rating by using the `corr()` method.\n",
    "* To get the correlations between different features, you may need to first convert the categorical features (i.e., gender, category and review) into numerial values. For doing this, you may need to import `OrdinalEncoder` from `sklearn.preprocessing` (refer to the useful exmaples [here](https://pbpython.com/categorical-encoding.html))\n",
    "* Please provide ___necessary explanations/analysis___ on the correlations, and figure out which are the ___most___ and ___least___ corrleated features regarding rating. Try to ___discuss___ how the correlation will affect the final prediction results, if we use these features to train a regression model for rating prediction. In what follows, we will conduct experiments to verify your hypothesis."
   ]
  },
  {
   "cell_type": "code",
   "execution_count": 17,
   "id": "W3PImHiElA_X",
   "metadata": {
    "id": "W3PImHiElA_X"
   },
   "outputs": [
    {
     "data": {
      "text/html": [
       "<div>\n",
       "<style scoped>\n",
       "    .dataframe tbody tr th:only-of-type {\n",
       "        vertical-align: middle;\n",
       "    }\n",
       "\n",
       "    .dataframe tbody tr th {\n",
       "        vertical-align: top;\n",
       "    }\n",
       "\n",
       "    .dataframe thead th {\n",
       "        text-align: right;\n",
       "    }\n",
       "</style>\n",
       "<table border=\"1\" class=\"dataframe\">\n",
       "  <thead>\n",
       "    <tr style=\"text-align: right;\">\n",
       "      <th></th>\n",
       "      <th>userId</th>\n",
       "      <th>timestamp</th>\n",
       "      <th>review</th>\n",
       "      <th>item</th>\n",
       "      <th>rating</th>\n",
       "      <th>helpfulness</th>\n",
       "      <th>gender</th>\n",
       "      <th>category</th>\n",
       "      <th>item_id</th>\n",
       "      <th>item_price</th>\n",
       "      <th>user_city</th>\n",
       "    </tr>\n",
       "  </thead>\n",
       "  <tbody>\n",
       "    <tr>\n",
       "      <th>0</th>\n",
       "      <td>4081</td>\n",
       "      <td>71900</td>\n",
       "      <td>Not always McCrap</td>\n",
       "      <td>McDonald's</td>\n",
       "      <td>4.0</td>\n",
       "      <td>3.0</td>\n",
       "      <td>M</td>\n",
       "      <td>Restaurants &amp; Gourmet</td>\n",
       "      <td>41</td>\n",
       "      <td>30.74</td>\n",
       "      <td>4</td>\n",
       "    </tr>\n",
       "    <tr>\n",
       "      <th>1</th>\n",
       "      <td>4081</td>\n",
       "      <td>72000</td>\n",
       "      <td>I dropped the chalupa even before he told me to</td>\n",
       "      <td>Taco Bell</td>\n",
       "      <td>1.0</td>\n",
       "      <td>4.0</td>\n",
       "      <td>M</td>\n",
       "      <td>Restaurants &amp; Gourmet</td>\n",
       "      <td>74</td>\n",
       "      <td>108.30</td>\n",
       "      <td>4</td>\n",
       "    </tr>\n",
       "    <tr>\n",
       "      <th>2</th>\n",
       "      <td>4081</td>\n",
       "      <td>72000</td>\n",
       "      <td>The Wonderful World of Wendy</td>\n",
       "      <td>Wendy's</td>\n",
       "      <td>5.0</td>\n",
       "      <td>4.0</td>\n",
       "      <td>M</td>\n",
       "      <td>Restaurants &amp; Gourmet</td>\n",
       "      <td>84</td>\n",
       "      <td>69.00</td>\n",
       "      <td>4</td>\n",
       "    </tr>\n",
       "    <tr>\n",
       "      <th>3</th>\n",
       "      <td>4081</td>\n",
       "      <td>100399</td>\n",
       "      <td>They actually did it</td>\n",
       "      <td>South Park: Bigger, Longer &amp; Uncut</td>\n",
       "      <td>5.0</td>\n",
       "      <td>3.0</td>\n",
       "      <td>M</td>\n",
       "      <td>Movies</td>\n",
       "      <td>68</td>\n",
       "      <td>143.11</td>\n",
       "      <td>4</td>\n",
       "    </tr>\n",
       "    <tr>\n",
       "      <th>4</th>\n",
       "      <td>4081</td>\n",
       "      <td>100399</td>\n",
       "      <td>Hey! Gimme some pie!</td>\n",
       "      <td>American Pie</td>\n",
       "      <td>3.0</td>\n",
       "      <td>3.0</td>\n",
       "      <td>M</td>\n",
       "      <td>Movies</td>\n",
       "      <td>6</td>\n",
       "      <td>117.89</td>\n",
       "      <td>4</td>\n",
       "    </tr>\n",
       "  </tbody>\n",
       "</table>\n",
       "</div>"
      ],
      "text/plain": [
       "   userId  timestamp                                           review  \\\n",
       "0    4081      71900                                Not always McCrap   \n",
       "1    4081      72000  I dropped the chalupa even before he told me to   \n",
       "2    4081      72000                     The Wonderful World of Wendy   \n",
       "3    4081     100399                             They actually did it   \n",
       "4    4081     100399                             Hey! Gimme some pie!   \n",
       "\n",
       "                                 item  rating  helpfulness gender  \\\n",
       "0                          McDonald's     4.0          3.0      M   \n",
       "1                           Taco Bell     1.0          4.0      M   \n",
       "2                             Wendy's     5.0          4.0      M   \n",
       "3  South Park: Bigger, Longer & Uncut     5.0          3.0      M   \n",
       "4                        American Pie     3.0          3.0      M   \n",
       "\n",
       "                category  item_id  item_price  user_city  \n",
       "0  Restaurants & Gourmet       41       30.74          4  \n",
       "1  Restaurants & Gourmet       74      108.30          4  \n",
       "2  Restaurants & Gourmet       84       69.00          4  \n",
       "3                 Movies       68      143.11          4  \n",
       "4                 Movies        6      117.89          4  "
      ]
     },
     "execution_count": 17,
     "metadata": {},
     "output_type": "execute_result"
    }
   ],
   "source": [
    "#Show rows of dataframe\n",
    "df.head()"
   ]
  },
  {
   "cell_type": "code",
   "execution_count": 18,
   "id": "f5111063-de5b-44cc-ae0d-0cac5e92fe90",
   "metadata": {},
   "outputs": [
    {
     "data": {
      "text/plain": [
       "<bound method DataFrame.info of       userId  timestamp                                           review  \\\n",
       "0       4081      71900                                Not always McCrap   \n",
       "1       4081      72000  I dropped the chalupa even before he told me to   \n",
       "2       4081      72000                     The Wonderful World of Wendy   \n",
       "3       4081     100399                             They actually did it   \n",
       "4       4081     100399                             Hey! Gimme some pie!   \n",
       "...      ...        ...                                              ...   \n",
       "2680    2445      22000                                     Great movie!   \n",
       "2681    2445      30700                                       Good food!   \n",
       "2682    2445      61500                                     Great movie!   \n",
       "2683    2445     100500                                    Awesome Game.   \n",
       "2684    2445     101400                                   Great Service.   \n",
       "\n",
       "                                           item  rating  helpfulness gender  \\\n",
       "0                                    McDonald's     4.0          3.0      M   \n",
       "1                                     Taco Bell     1.0          4.0      M   \n",
       "2                                       Wendy's     5.0          4.0      M   \n",
       "3            South Park: Bigger, Longer & Uncut     5.0          3.0      M   \n",
       "4                                  American Pie     3.0          3.0      M   \n",
       "...                                         ...     ...          ...    ...   \n",
       "2680      Austin Powers: The Spy Who Shagged Me     5.0          3.0      M   \n",
       "2681                         Outback Steakhouse     5.0          3.0      M   \n",
       "2682                                 Fight Club     5.0          3.0      M   \n",
       "2683  The Sims 2: Open for Business for Windows     5.0          4.0      M   \n",
       "2684                                     PayPal     5.0          3.0      M   \n",
       "\n",
       "                   category  item_id  item_price  user_city  \n",
       "0     Restaurants & Gourmet       41       30.74          4  \n",
       "1     Restaurants & Gourmet       74      108.30          4  \n",
       "2     Restaurants & Gourmet       84       69.00          4  \n",
       "3                    Movies       68      143.11          4  \n",
       "4                    Movies        6      117.89          4  \n",
       "...                     ...      ...         ...        ...  \n",
       "2680                 Movies        9      111.00          5  \n",
       "2681  Restaurants & Gourmet       50       25.00          5  \n",
       "2682                 Movies       26       97.53          5  \n",
       "2683                  Games       79       27.00          5  \n",
       "2684       Personal Finance       52       38.00          5  \n",
       "\n",
       "[2685 rows x 11 columns]>"
      ]
     },
     "execution_count": 18,
     "metadata": {},
     "output_type": "execute_result"
    }
   ],
   "source": [
    "#Info of dataframe\n",
    "df.info"
   ]
  },
  {
   "cell_type": "code",
   "execution_count": 34,
   "id": "c3772b18-4e75-4936-8b5e-33c13d8ac5fc",
   "metadata": {},
   "outputs": [
    {
     "name": "stdout",
     "output_type": "stream",
     "text": [
      "               userId  timestamp    review      item    rating  helpfulness  \\\n",
      "userId       1.000000   0.065530  0.007427  0.005822  0.033327     0.164870   \n",
      "timestamp    0.065530   1.000000  0.007029  0.003543  0.000369     0.014179   \n",
      "review       0.007427   0.007029  1.000000  0.163090  0.036118     0.028259   \n",
      "item         0.005822   0.003543  0.163090  1.000000  0.043388     0.020433   \n",
      "rating       0.033327   0.000369  0.036118  0.043388  1.000000     0.007523   \n",
      "helpfulness  0.164870   0.014179  0.028259  0.020433  0.007523     1.000000   \n",
      "gender       0.056342   0.003367  0.037884  0.001925  0.034337     0.075947   \n",
      "category     0.037127   0.015009  0.001970  0.045988  0.163158     0.013408   \n",
      "item_id      0.005822   0.003543  0.163090  1.000000  0.043388     0.020433   \n",
      "item_price   0.021375   0.010979  0.041421  0.049885  0.027374     0.004112   \n",
      "user_city    0.043083   0.014934  0.045626  0.005220  0.028825     0.012086   \n",
      "\n",
      "               gender  category   item_id  item_price  user_city  \n",
      "userId       0.056342  0.037127  0.005822    0.021375   0.043083  \n",
      "timestamp    0.003367  0.015009  0.003543    0.010979   0.014934  \n",
      "review       0.037884  0.001970  0.163090    0.041421   0.045626  \n",
      "item         0.001925  0.045988  1.000000    0.049885   0.005220  \n",
      "rating       0.034337  0.163158  0.043388    0.027374   0.028825  \n",
      "helpfulness  0.075947  0.013408  0.020433    0.004112   0.012086  \n",
      "gender       1.000000  0.022549  0.001925    0.040596   0.065638  \n",
      "category     0.022549  1.000000  0.045988    0.115571   0.008017  \n",
      "item_id      0.001925  0.045988  1.000000    0.049885   0.005220  \n",
      "item_price   0.040596  0.115571  0.049885    1.000000   0.023427  \n",
      "user_city    0.065638  0.008017  0.005220    0.023427   1.000000  \n"
     ]
    }
   ],
   "source": [
    "#Encoder\n",
    "encoder = OrdinalEncoder()\n",
    "\n",
    "#Implementing correlation\n",
    "col = [\"gender\", \"category\", \"review\"]\n",
    "df[col] = encoder.fit_transform(df[col])\n",
    "corr = df.corr(numeric_only=True).abs()\n",
    "\n",
    "#Print data\n",
    "print(corr)"
   ]
  },
  {
   "cell_type": "code",
   "execution_count": 35,
   "id": "aa3e7530-d75c-4898-ae7c-cbc604bfb9cc",
   "metadata": {},
   "outputs": [
    {
     "name": "stdout",
     "output_type": "stream",
     "text": [
      "rating         1.000000\n",
      "category       0.163158\n",
      "item_id        0.043388\n",
      "item           0.043388\n",
      "review         0.036118\n",
      "gender         0.034337\n",
      "userId         0.033327\n",
      "user_city      0.028825\n",
      "item_price     0.027374\n",
      "helpfulness    0.007523\n",
      "timestamp      0.000369\n",
      "Name: rating, dtype: float64\n"
     ]
    }
   ],
   "source": [
    "#Ordering rating correlation\n",
    "corr_rating = corr['rating']\n",
    "sorted = corr_rating.sort_values(ascending=False)\n",
    "\n",
    "#Print ordered rating correlation\n",
    "print(sorted)"
   ]
  },
  {
   "cell_type": "markdown",
   "id": "c1f998f2-9d70-490a-bb57-65f3b1cfa15d",
   "metadata": {},
   "source": [
    "### Analysis\n",
    "\n",
    "Most Correlated: item_id\n",
    "\n",
    "Least Correlated: category\n",
    "\n",
    "There are more negative correlations in comparison to positive correlations within the dataset. This therfore means that the predictive model is more inclined to be faulty as the negative correlation data will negatively affect and even degrade the model. There are however nuetral values like timestamp which will not signifcantly improve or degrade the model."
   ]
  },
  {
   "cell_type": "markdown",
   "id": "4myP5igslA_Y",
   "metadata": {
    "id": "4myP5igslA_Y"
   },
   "source": [
    "### Split Training and Testing Data\n",
    "* Machine learning models are trained to help make predictions for the future. Normally, we need to randomly split the dataset into training and testing sets, where we use the training set to train the model, and then leverage the well-trained model to make predictions on the testing set.\n",
    "* To further investigate whether the size of the training/testing data affects the model performance, please random split the data into training and testing sets with different sizes:\n",
    "    * Case 1: training data containing 10% of the entire data;\n",
    "    * Case 2: training data containing 90% of the entire data.\n",
    "* Print the shape of training and testing sets in the two cases."
   ]
  },
  {
   "cell_type": "code",
   "execution_count": 61,
   "id": "JIDMig9blA_Y",
   "metadata": {
    "id": "JIDMig9blA_Y"
   },
   "outputs": [
    {
     "name": "stdout",
     "output_type": "stream",
     "text": [
      "Case 1:\n",
      "Training set shape: (268, 11)\n",
      "Testing set shape: (2417, 11)\n",
      "\n",
      "Case 2:\n",
      "Training set shape: (2416, 11)\n",
      "Testing set shape: (269, 11)\n"
     ]
    }
   ],
   "source": [
    "# Case 1: 10% of the data for training\n",
    "train_case1, test_case1 = train_test_split(df, train_size=0.1, random_state=142)\n",
    "\n",
    "# Case 2: 90% of the data for training\n",
    "train_case2, test_case2 = train_test_split(df, train_size=0.9, random_state=142)\n",
    "\n",
    "# Printing \n",
    "print(\"Case 1:\")\n",
    "print(\"Training set shape:\", train_case1.shape)\n",
    "print(\"Testing set shape:\", test_case1.shape)\n",
    "print(\"\\nCase 2:\")\n",
    "print(\"Training set shape:\", train_case2.shape)\n",
    "print(\"Testing set shape:\", test_case2.shape)"
   ]
  },
  {
   "cell_type": "markdown",
   "id": "DjSsgT0BlA_Y",
   "metadata": {
    "id": "DjSsgT0BlA_Y"
   },
   "source": [
    "### Train Linear Regression Models with Feature Selection under Cases 1 & 2\n",
    "* When training a machine learning model for prediction, we may need to select the most important/correlated input features for more accurate results.\n",
    "* To investigate whether feature selection affects the model performance, please select two most correlated features and two least correlated features regarding rating, respectively.\n",
    "* Train four linear regression models by following the conditions:\n",
    "    - (model-a) using the training/testing data in case 1 with two most correlated input features\n",
    "    - (model-b) using the training/testing data in case 1 with two least correlated input features\n",
    "    - (model-c) using the training/testing data in case 2 with two most correlated input features\n",
    "    - (model-d) using the training/testing data in case 2 with two least correlated input features\n",
    "* By doing this, we can verify the impacts of the size of traing/testing data on the model performance via comparing model-a and model-c (or model-b and model-d); meanwhile the impacts of feature selection can be validated via comparing model-a and model-b (or model-c and model-d).    "
   ]
  },
  {
   "cell_type": "code",
   "execution_count": 62,
   "id": "DASzPUATlA_Z",
   "metadata": {
    "id": "DASzPUATlA_Z"
   },
   "outputs": [
    {
     "name": "stdout",
     "output_type": "stream",
     "text": [
      "Model A (Most Correlated Features) Score: 0.020578145218415278\n",
      "Model B (Least Correlated Features) Score: -0.019383789895821568\n",
      "Model C (Most Correlated Features) Score: 0.022040319944943154\n",
      "Model D (Least Correlated Features) Score: -0.006899007486201425\n"
     ]
    }
   ],
   "source": [
    "features_most_corr = [\"category\", \"review\"]\n",
    "features_least_corr = [\"gender\", \"helpfulness\"]\n",
    "\n",
    "# Define function to train and evaluate a linear regression model\n",
    "def train_and_evaluate_model(features, train_data, test_data):\n",
    "    X_train = train_data[features]\n",
    "    y_train = train_data[\"rating\"]\n",
    "    X_test = test_data[features]\n",
    "    y_test = test_data[\"rating\"]\n",
    "    \n",
    "    model = LinearRegression()\n",
    "    model.fit(X_train, y_train)\n",
    "    score = model.score(X_test, y_test)\n",
    "    \n",
    "    return model, score\n",
    "\n",
    "# Train and evaluate the models\n",
    "model_a, score_a = train_and_evaluate_model(features_most_corr, train_case1, test_case1)\n",
    "model_b, score_b = train_and_evaluate_model(features_least_corr, train_case1, test_case1)\n",
    "model_c, score_c = train_and_evaluate_model(features_most_corr, train_case2, test_case2)\n",
    "model_d, score_d = train_and_evaluate_model(features_least_corr, train_case2, test_case2)\n",
    "\n",
    "# Print the model performance scores\n",
    "print(\"Model A (Most Correlated Features) Score:\", score_a)\n",
    "print(\"Model B (Least Correlated Features) Score:\", score_b)\n",
    "print(\"Model C (Most Correlated Features) Score:\", score_c)\n",
    "print(\"Model D (Least Correlated Features) Score:\", score_d)"
   ]
  },
  {
   "cell_type": "markdown",
   "id": "KATSn7hYlA_Z",
   "metadata": {
    "id": "KATSn7hYlA_Z"
   },
   "source": [
    "### Evaluate Models\n",
    "* Evaluate the performance of the four models with two metrics, including MSE and Root MSE\n",
    "* Print the results of the four models regarding the two metrics"
   ]
  },
  {
   "cell_type": "code",
   "execution_count": 63,
   "id": "4fU8GPS9lA_Z",
   "metadata": {
    "id": "4fU8GPS9lA_Z"
   },
   "outputs": [
    {
     "name": "stdout",
     "output_type": "stream",
     "text": [
      "Model A (Most Correlated Features) - MSE: 1.7690740179517055 RMSE: 1.3300654186737229\n",
      "Model B (Least Correlated Features) - MSE: 1.8412549895856636 RMSE: 1.356928513071217\n",
      "Model C (Most Correlated Features) - MSE: 1.758897535980505 RMSE: 1.3262343442923294\n",
      "Model D (Least Correlated Features) - MSE: 1.8109460127732369 RMSE: 1.3457139416581954\n"
     ]
    }
   ],
   "source": [
    "# Define function to train and evaluate a linear regression model\n",
    "def train_and_evaluate_model(features, train_data, test_data):\n",
    "    X_train = train_data[features]\n",
    "    y_train = train_data[\"rating\"]\n",
    "    X_test = test_data[features]\n",
    "    y_test = test_data[\"rating\"]\n",
    "    \n",
    "    model = LinearRegression()\n",
    "    model.fit(X_train, y_train)\n",
    "    y_pred = model.predict(X_test)\n",
    "    \n",
    "    mse = mean_squared_error(y_test, y_pred)\n",
    "    rmse = np.sqrt(mse)\n",
    "    \n",
    "    return model, mse, rmse\n",
    "\n",
    "# Train and evaluate the models\n",
    "model_a, mse_a, rmse_a = train_and_evaluate_model(features_most_corr, train_case1, test_case1)\n",
    "model_b, mse_b, rmse_b = train_and_evaluate_model(features_least_corr, train_case1, test_case1)\n",
    "model_c, mse_c, rmse_c = train_and_evaluate_model(features_most_corr, train_case2, test_case2)\n",
    "model_d, mse_d, rmse_d = train_and_evaluate_model(features_least_corr, train_case2, test_case2)\n",
    "\n",
    "# Print the results\n",
    "print(\"Model A (Most Correlated Features) - MSE:\", mse_a, \"RMSE:\", rmse_a)\n",
    "print(\"Model B (Least Correlated Features) - MSE:\", mse_b, \"RMSE:\", rmse_b)\n",
    "print(\"Model C (Most Correlated Features) - MSE:\", mse_c, \"RMSE:\", rmse_c)\n",
    "print(\"Model D (Least Correlated Features) - MSE:\", mse_d, \"RMSE:\", rmse_d)"
   ]
  },
  {
   "cell_type": "markdown",
   "id": "Y9jx-eY6lA_a",
   "metadata": {
    "id": "Y9jx-eY6lA_a"
   },
   "source": [
    "### Visualize, Compare and Analyze the Results\n",
    "* Visulize the results, and perform ___insightful analysis___ on the obtained results. For better visualization, you may need to carefully set the scale for the y-axis.\n",
    "* Normally, the model trained with most correlated features and more training data will get better results. Do you obtain the similar observations? If not, please ___explain the possible reasons___."
   ]
  },
  {
   "cell_type": "code",
   "execution_count": 67,
   "id": "3TNAIGDilA_a",
   "metadata": {
    "id": "3TNAIGDilA_a"
   },
   "outputs": [
    {
     "data": {
      "image/png": "[encoded data removed]",
      "text/plain": [
       "<Figure size 1000x600 with 1 Axes>"
      ]
     },
     "metadata": {},
     "output_type": "display_data"
    },
    {
     "data": {
      "image/png": "[encoded data removed]",
      "text/plain": [
       "<Figure size 1000x600 with 1 Axes>"
      ]
     },
     "metadata": {},
     "output_type": "display_data"
    }
   ],
   "source": [
    "# Define the models and their corresponding MSE and RMSE values\n",
    "models = ['Model A', 'Model B', 'Model C', 'Model D']\n",
    "mse_values = [mse_a, mse_b, mse_c, mse_d]\n",
    "rmse_values = [rmse_a ,rmse_b ,rmse_c ,rmse_d]\n",
    "\n",
    "# Create a bar chart for MSE\n",
    "plt.figure(figsize=(10, 6))\n",
    "plt.bar(models, mse_values, capsize=5, color=['greenyellow', 'darkviolet', 'greenyellow', 'darkviolet'])\n",
    "plt.title('Model Comparison - Mean Squared Error (MSE)')\n",
    "plt.xlabel('Models')\n",
    "plt.ylabel('MSE')\n",
    "plt.ylim(1.7, 1.9)  # Set the y-axis scale\n",
    "plt.show()\n",
    "\n",
    "# Create a bar chart for RMSE\n",
    "plt.figure(figsize=(10, 6))\n",
    "plt.bar(models, rmse_values, capsize=5, color=['greenyellow', 'darkviolet', 'greenyellow', 'darkviolet'])\n",
    "plt.title('Model Comparison - Root Mean Squared Error (RMSE)')\n",
    "plt.xlabel('Models')\n",
    "plt.ylabel('RMSE')\n",
    "plt.ylim(1.3, 1.4)  # Set the y-axis scale\n",
    "plt.show()"
   ]
  },
  {
   "cell_type": "markdown",
   "id": "2d19c7ac-b740-4558-84b1-b7db93b92238",
   "metadata": {},
   "source": [
    "### MSE Comparison"
   ]
  },
  {
   "cell_type": "markdown",
   "id": "bf8c639e-16ea-451e-b038-fc366df39f41",
   "metadata": {},
   "source": [
    "Model A and Model C have lower mean squared error values than Model B and Model D.\n",
    "In comparison to the training data of case 2 should result in better performance. However, Model A and Model C who contains case 1 values with fewer data points is seen to outperform Model B and Model D. This is completely different from the understanding that better data produces a better model."
   ]
  },
  {
   "cell_type": "markdown",
   "id": "a36cb58a-dd94-4f3d-9da6-0e6938bfe3e8",
   "metadata": {},
   "source": [
    "### RMSE Comparison"
   ]
  },
  {
   "cell_type": "markdown",
   "id": "d83c27bf-edd5-4450-8163-99833381f36a",
   "metadata": {},
   "source": [
    "The rooted mean squared error results follow a similar pattern to mean squared error. Model A and Model C have lower rooted mean squared error values compared to Model B and Model D.."
   ]
  },
  {
   "cell_type": "markdown",
   "id": "f9055a89-d44f-4bd9-be1a-d0e8d1571107",
   "metadata": {},
   "source": [
    "### General Observation"
   ]
  },
  {
   "cell_type": "markdown",
   "id": "3b25e6c5-cdbd-47b8-a481-e6b63dc77325",
   "metadata": {},
   "source": [
    "The most critical factor impacting model performance in this case seems to be feature selection. Selecting the most correlated features leads to better performance compared to selecting the least correlated features (Models B and D). This suggests that feature quality and relevance play a significant role in linear regression model performance.\n",
    "\n",
    "While it's commonly assumed that more data leads to better performance, the observed results may be due to various factors. It's also possible that case 1 contained more informative data points or that case 2 introduced more noise or outliers."
   ]
  },
  {
   "cell_type": "code",
   "execution_count": null,
   "id": "52144a49-67db-4201-96e4-7ca00a8546c9",
   "metadata": {},
   "outputs": [],
   "source": []
  }
 ],
 "metadata": {
  "colab": {
   "provenance": []
  },
  "kernelspec": {
   "display_name": "Python 3 (ipykernel)",
   "language": "python",
   "name": "python3"
  },
  "language_info": {
   "codemirror_mode": {
    "name": "ipython",
    "version": 3
   },
   "file_extension": ".py",
   "mimetype": "text/x-python",
   "name": "python",
   "nbconvert_exporter": "python",
   "pygments_lexer": "ipython3",
   "version": "3.11.4"
  }
 },
 "nbformat": 4,
 "nbformat_minor": 5
}
